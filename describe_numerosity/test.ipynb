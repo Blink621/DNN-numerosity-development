{
 "cells": [
  {
   "cell_type": "code",
   "execution_count": 1,
   "metadata": {
    "collapsed": true
   },
   "outputs": [],
   "source": [
    "import pandas as pd\n",
    "import numpy as np\n",
    "from statsmodels.formula.api import ols\n",
    "from statsmodels.stats.anova import anova_lm\n",
    "from os.path import join as pjoin"
   ]
  },
  {
   "cell_type": "code",
   "execution_count": 52,
   "metadata": {
    "collapsed": false
   },
   "outputs": [
    {
     "name": "stdout",
     "output_type": "stream",
     "text": [
      "   0  1  2\n",
      "0  1  2  3\n",
      "1  4  5  6\n"
     ]
    }
   ],
   "source": [
    "a = [[1,2,3],[4,5,6]]\n",
    "df = pd.DataFrame(a)\n",
    "print(df)"
   ]
  },
  {
   "cell_type": "code",
   "execution_count": 10,
   "metadata": {
    "collapsed": false
   },
   "outputs": [
    {
     "name": "stdout",
     "output_type": "stream",
     "text": [
      "False\n",
      "317642500.0\n",
      "317642430.0\n",
      "False\n",
      "60782764.0\n",
      "60782756.0\n"
     ]
    }
   ],
   "source": [
    "out_path = '/nfs/s2/userhome/zhouming/workingdir/numerosity/out/activation' \n",
    "layer_all = ['fc1_relu','fc2_relu']\n",
    "\n",
    "for layer in layer_all:\n",
    "    act_raw = np.load(pjoin(out_path, f'act_{layer}.npy'))\n",
    "    act_test_numerosity = np.load(pjoin(out_path, f'act_{layer}_test_numerosity.npy'))\n",
    "    print((act_raw == act_test_numerosity).all())\n",
    "    print(np.sum(act_raw))#[:5, 1, :, :])\n",
    "    print(np.sum(act_test_numerosity))#[:5, 1, :, :])    \n",
    "    #print((act_raw == act_test_numerosity).all())\n",
    "    \n",
    "    \n",
    "    \n",
    "    \n",
    "  \n",
    "    \n",
    "    del act_raw\n",
    "    del act_test_numerosity"
   ]
  },
  {
   "cell_type": "code",
   "execution_count": 3,
   "metadata": {
    "collapsed": false
   },
   "outputs": [
    {
     "name": "stdout",
     "output_type": "stream",
     "text": [
      "(57600, 4096, 1, 1)\n",
      "(19200, 4096, 1, 1)\n"
     ]
    }
   ],
   "source": [
    "print(act_all.shape)\n",
    "print(act_pentagon.shape)"
   ]
  },
  {
   "cell_type": "code",
   "execution_count": 25,
   "metadata": {
    "collapsed": false
   },
   "outputs": [
    {
     "name": "stdout",
     "output_type": "stream",
     "text": [
      "(57600,)\n",
      "(19200,)\n",
      "Have same!It s in 1383 row\n",
      "Have same!It s in 1728 row\n",
      "Have same!It s in 2032 row\n",
      "Have same!It s in 2617 row\n",
      "Have same!It s in 3288 row\n",
      "Have same!It s in 4168 row\n",
      "Have same!It s in 4983 row\n",
      "Have same!It s in 6297 row\n",
      "Have same!It s in 6875 row\n",
      "Have same!It s in 8142 row\n",
      "Have same!It s in 10435 row\n",
      "Have same!It s in 12655 row\n",
      "Have same!It s in 13300 row\n",
      "Have same!It s in 13456 row\n",
      "Have same!It s in 14694 row\n",
      "Have same!It s in 17147 row\n",
      "Have same!It s in 17407 row\n",
      "Have same!It s in 18855 row\n",
      "Have same!It s in 19135 row\n"
     ]
    }
   ],
   "source": [
    "test_all = (act_all[:,0,:]).flatten()\n",
    "test_one = (act_pentagon[:,0,:]).flatten()\n",
    "print(test_all.shape)\n",
    "print(test_one.shape)\n",
    "for num in range(test_one.shape[0]):\n",
    "    in_num = np.where(test_all==test_one[num])\n",
    "    \n",
    "    if len(in_num[0]) != 0:\n",
    "        print(f'Have same!It s in {num} row')"
   ]
  },
  {
   "cell_type": "code",
   "execution_count": 23,
   "metadata": {
    "collapsed": false
   },
   "outputs": [
    {
     "name": "stdout",
     "output_type": "stream",
     "text": [
      "(array([20768]),)\n"
     ]
    }
   ],
   "source": [
    "in_num = np.where(test_all==test_one[978])\n",
    "print(in_num)"
   ]
  },
  {
   "cell_type": "code",
   "execution_count": 49,
   "metadata": {
    "collapsed": false
   },
   "outputs": [
    {
     "name": "stdout",
     "output_type": "stream",
     "text": [
      "[0.         0.         0.14294222 0.6464323  1.1051008  0.4097329\n",
      " 0.         0.         0.03884362 0.8651006 ]\n",
      "[1.4157813 1.4193431 1.411205  1.4022019 1.3934913 1.4126643 1.3963063\n",
      " 1.3986039 1.4192626 1.4014703]\n"
     ]
    }
   ],
   "source": [
    "print(act_all[:10, 0].flatten())\n",
    "print(act_pentagon[:10, 0].flatten())"
   ]
  },
  {
   "cell_type": "code",
   "execution_count": 41,
   "metadata": {
    "collapsed": false,
    "scrolled": true
   },
   "outputs": [
    {
     "name": "stdout",
     "output_type": "stream",
     "text": [
      "            act   num  set\n",
      "0      0.520836   1.0  1.0\n",
      "1      0.535393   1.0  1.0\n",
      "2      0.534850   1.0  1.0\n",
      "3      0.520527   1.0  1.0\n",
      "4      0.527999   1.0  1.0\n",
      "5      0.528800   1.0  1.0\n",
      "6      0.525780   1.0  1.0\n",
      "7      0.530214   1.0  1.0\n",
      "8      0.541475   1.0  1.0\n",
      "9      0.540520   1.0  1.0\n",
      "10     0.541850   1.0  1.0\n",
      "11     0.525262   1.0  1.0\n",
      "12     0.535095   1.0  1.0\n",
      "13     0.533180   1.0  1.0\n",
      "14     0.529263   1.0  1.0\n",
      "15     0.525624   1.0  1.0\n",
      "16     0.529368   1.0  1.0\n",
      "17     0.534371   1.0  1.0\n",
      "18     0.529040   1.0  1.0\n",
      "19     0.530231   1.0  1.0\n",
      "20     0.528597   1.0  1.0\n",
      "21     0.534078   1.0  1.0\n",
      "22     0.515966   1.0  1.0\n",
      "23     0.542293   1.0  1.0\n",
      "24     0.535137   1.0  1.0\n",
      "25     0.524481   1.0  1.0\n",
      "26     0.535500   1.0  1.0\n",
      "27     0.526111   1.0  1.0\n",
      "28     0.538805   1.0  1.0\n",
      "29     0.531211   1.0  1.0\n",
      "...         ...   ...  ...\n",
      "57570  0.534419  32.0  3.0\n",
      "57571  0.537290  32.0  3.0\n",
      "57572  0.533861  32.0  3.0\n",
      "57573  0.529439  32.0  3.0\n",
      "57574  0.521032  32.0  3.0\n",
      "57575  0.524390  32.0  3.0\n",
      "57576  0.535974  32.0  3.0\n",
      "57577  0.534876  32.0  3.0\n",
      "57578  0.522171  32.0  3.0\n",
      "57579  0.532321  32.0  3.0\n",
      "57580  0.528534  32.0  3.0\n",
      "57581  0.523436  32.0  3.0\n",
      "57582  0.535201  32.0  3.0\n",
      "57583  0.538782  32.0  3.0\n",
      "57584  0.532775  32.0  3.0\n",
      "57585  0.530973  32.0  3.0\n",
      "57586  0.527052  32.0  3.0\n",
      "57587  0.531734  32.0  3.0\n",
      "57588  0.523821  32.0  3.0\n",
      "57589  0.534132  32.0  3.0\n",
      "57590  0.522735  32.0  3.0\n",
      "57591  0.535510  32.0  3.0\n",
      "57592  0.537809  32.0  3.0\n",
      "57593  0.529406  32.0  3.0\n",
      "57594  0.536286  32.0  3.0\n",
      "57595  0.529316  32.0  3.0\n",
      "57596  0.541059  32.0  3.0\n",
      "57597  0.521405  32.0  3.0\n",
      "57598  0.524245  32.0  3.0\n",
      "57599  0.538397  32.0  3.0\n",
      "\n",
      "[57600 rows x 3 columns]\n"
     ]
    }
   ],
   "source": [
    "unit_num = act_standard.shape[1]\n",
    "unit_loc = np.zeros((unit_num, len(layer_all)))\n",
    "idx = 3021\n",
    "#for idx in range(unit_num):\n",
    "get = lambda x : x[:, idx]\n",
    "col1 = np.hstack((get(act_standard).flatten(), get(act_density).flatten(), get(act_pentagon).flatten()))\n",
    "#print(get(act_standard).flatten().shape)\n",
    "col2 = np.tile(np.repeat(range(1, 33), 600),3)\n",
    "col3 = np.repeat([1,2,3], 32*600, axis=0)\n",
    "mat = np.zeros((32*600*3, 3))\n",
    "mat[:,0] = col1\n",
    "mat[:,1] = col2\n",
    "mat[:,2] = col3\n",
    "df = pd.DataFrame(mat)\n",
    "df.columns = ['act', 'num', 'set']\n",
    "print(df)\n",
    "# df = pd.DataFrame(mat)\n",
    "# df.columns = ['act', 'num', 'dset']\n"
   ]
  },
  {
   "cell_type": "code",
   "execution_count": 42,
   "metadata": {
    "collapsed": false
   },
   "outputs": [
    {
     "data": {
      "text/plain": [
       "False"
      ]
     },
     "execution_count": 42,
     "metadata": {},
     "output_type": "execute_result"
    }
   ],
   "source": [
    "1 in df['act'].values"
   ]
  },
  {
   "cell_type": "code",
   "execution_count": 34,
   "metadata": {
    "collapsed": false,
    "scrolled": false
   },
   "outputs": [
    {
     "name": "stdout",
     "output_type": "stream",
     "text": [
      "set  num \n",
      "1.0  1.0     0.059353\n",
      "     2.0     0.059286\n",
      "     3.0     0.059490\n",
      "     4.0     0.059479\n",
      "     5.0     0.059345\n",
      "     6.0     0.059496\n",
      "     7.0     0.059352\n",
      "     8.0     0.059533\n",
      "     9.0     0.059421\n",
      "     10.0    0.059458\n",
      "     11.0    0.059416\n",
      "     12.0    0.059354\n",
      "     13.0    0.059359\n",
      "     14.0    0.059447\n",
      "     15.0    0.059311\n",
      "     16.0    0.059528\n",
      "     17.0    0.059439\n",
      "     18.0    0.059415\n",
      "     19.0    0.059386\n",
      "     20.0    0.059394\n",
      "     21.0    0.059376\n",
      "     22.0    0.059439\n",
      "     23.0    0.059431\n",
      "     24.0    0.059356\n",
      "     25.0    0.059310\n",
      "     26.0    0.059320\n",
      "     27.0    0.059509\n",
      "     28.0    0.059341\n",
      "     29.0    0.059318\n",
      "     30.0    0.059305\n",
      "               ...   \n",
      "3.0  3.0     0.058882\n",
      "     4.0     0.059007\n",
      "     5.0     0.059021\n",
      "     6.0     0.059037\n",
      "     7.0     0.059021\n",
      "     8.0     0.059002\n",
      "     9.0     0.058894\n",
      "     10.0    0.059001\n",
      "     11.0    0.059004\n",
      "     12.0    0.058948\n",
      "     13.0    0.059137\n",
      "     14.0    0.058969\n",
      "     15.0    0.059062\n",
      "     16.0    0.058989\n",
      "     17.0    0.058984\n",
      "     18.0    0.059078\n",
      "     19.0    0.058986\n",
      "     20.0    0.059084\n",
      "     21.0    0.059057\n",
      "     22.0    0.058989\n",
      "     23.0    0.059062\n",
      "     24.0    0.059034\n",
      "     25.0    0.059095\n",
      "     26.0    0.059083\n",
      "     27.0    0.058983\n",
      "     28.0    0.058982\n",
      "     29.0    0.059045\n",
      "     30.0    0.058958\n",
      "     31.0    0.058895\n",
      "     32.0    0.058989\n",
      "Name: act, Length: 96, dtype: float64\n"
     ]
    }
   ],
   "source": [
    "df_mean = df.groupby([df['set'], df['num']]).mean()['act']\n",
    "print(df_mean)"
   ]
  },
  {
   "cell_type": "code",
   "execution_count": 8,
   "metadata": {
    "collapsed": false
   },
   "outputs": [
    {
     "name": "stdout",
     "output_type": "stream",
     "text": [
      "num:nan, set:nan, interact:nan\n"
     ]
    },
    {
     "name": "stderr",
     "output_type": "stream",
     "text": [
      "/usr/local/neurosoft/miniconda3/lib/python3.6/site-packages/scipy/stats/_distn_infrastructure.py:903: RuntimeWarning: invalid value encountered in greater\n",
      "  return (a < x) & (x < b)\n",
      "/usr/local/neurosoft/miniconda3/lib/python3.6/site-packages/scipy/stats/_distn_infrastructure.py:903: RuntimeWarning: invalid value encountered in less\n",
      "  return (a < x) & (x < b)\n",
      "/usr/local/neurosoft/miniconda3/lib/python3.6/site-packages/scipy/stats/_distn_infrastructure.py:1912: RuntimeWarning: invalid value encountered in less_equal\n",
      "  cond2 = cond0 & (x <= _a)\n"
     ]
    }
   ],
   "source": [
    "formula = 'act~C(num)+C(dset)+C(num):C(dset)'\n",
    "res = anova_lm(ols(formula, df).fit())\n",
    "sig = res['PR(>F)']\n",
    "print('num:%.2f, set:%.2f, interact:%.2f'%(sig['C(num)'], sig['C(dset)'], sig['C(num):C(dset)']))\n"
   ]
  },
  {
   "cell_type": "code",
   "execution_count": null,
   "metadata": {
    "collapsed": true
   },
   "outputs": [],
   "source": []
  }
 ],
 "metadata": {
  "kernelspec": {
   "display_name": "Python [Root]",
   "language": "python",
   "name": "Python [Root]"
  },
  "language_info": {
   "codemirror_mode": {
    "name": "ipython",
    "version": 3
   },
   "file_extension": ".py",
   "mimetype": "text/x-python",
   "name": "python",
   "nbconvert_exporter": "python",
   "pygments_lexer": "ipython3",
   "version": "3.6.7"
  }
 },
 "nbformat": 4,
 "nbformat_minor": 0
}
